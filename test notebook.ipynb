{
 "cells": [
  {
   "cell_type": "code",
   "execution_count": 1,
   "id": "f9d0ed62",
   "metadata": {},
   "outputs": [],
   "source": [
    "import pandas as pd\n",
    "import nltk\n",
    "\n",
    "from sklearn.ensemble import AdaBoostClassifier, GradientBoostingClassifier\n",
    "from sklearn.ensemble import RandomForestClassifier\n",
    "from sklearn.naive_bayes import GaussianNB\n",
    "from sklearn.neighbors import KNeighborsClassifier\n",
    "from sklearn.svm import SVC\n",
    "from sklearn.feature_extraction.text import CountVectorizer \n",
    "\n",
    "from sklearn.model_selection import cross_val_score, cross_validate, cross_val_predict\n",
    "from sklearn.metrics import recall_score\n",
    "from sklearn.model_selection import train_test_split\n",
    "from sklearn.metrics import confusion_matrix, classification_report, roc_curve\n",
    "\n",
    "from sklearn.pipeline import Pipeline\n",
    "\n",
    "import seaborn as sns\n",
    "import matplotlib.pyplot as plt"
   ]
  },
  {
   "cell_type": "code",
   "execution_count": 30,
   "id": "309e4865",
   "metadata": {},
   "outputs": [
    {
     "data": {
      "text/html": [
       "<div>\n",
       "<style scoped>\n",
       "    .dataframe tbody tr th:only-of-type {\n",
       "        vertical-align: middle;\n",
       "    }\n",
       "\n",
       "    .dataframe tbody tr th {\n",
       "        vertical-align: top;\n",
       "    }\n",
       "\n",
       "    .dataframe thead th {\n",
       "        text-align: right;\n",
       "    }\n",
       "</style>\n",
       "<table border=\"1\" class=\"dataframe\">\n",
       "  <thead>\n",
       "    <tr style=\"text-align: right;\">\n",
       "      <th></th>\n",
       "      <th>Unnamed: 0</th>\n",
       "      <th>ID</th>\n",
       "      <th>UUID</th>\n",
       "      <th>Trip ID</th>\n",
       "      <th>Comment</th>\n",
       "      <th>Rate</th>\n",
       "      <th>Created At</th>\n",
       "      <th>Updated At</th>\n",
       "      <th>User Old ID</th>\n",
       "      <th>Trip Old ID</th>\n",
       "      <th>Classe</th>\n",
       "      <th>Comms</th>\n",
       "      <th>Length</th>\n",
       "      <th>Tokens</th>\n",
       "    </tr>\n",
       "  </thead>\n",
       "  <tbody>\n",
       "    <tr>\n",
       "      <th>0</th>\n",
       "      <td>0</td>\n",
       "      <td>19469</td>\n",
       "      <td>5f090183-575f-4b68-bfd8-8ca64e271f60</td>\n",
       "      <td>NaN</td>\n",
       "      <td>Sans assistance électrique</td>\n",
       "      <td>1.0</td>\n",
       "      <td>2021-09-26T11:30:17.535Z</td>\n",
       "      <td>2021-09-26T11:30:17.535Z</td>\n",
       "      <td>60d193e09485da0e5c6c5c51</td>\n",
       "      <td>6150591710168f3d48342d26</td>\n",
       "      <td>Technique</td>\n",
       "      <td>sans assistance electrique</td>\n",
       "      <td>27</td>\n",
       "      <td>['sans', 'assistance', 'electrique']</td>\n",
       "    </tr>\n",
       "    <tr>\n",
       "      <th>1</th>\n",
       "      <td>1</td>\n",
       "      <td>19487</td>\n",
       "      <td>79fa4190-76bd-4b48-a6aa-c22b1f5f9355</td>\n",
       "      <td>NaN</td>\n",
       "      <td>Pas de frein arrière</td>\n",
       "      <td>3.0</td>\n",
       "      <td>2021-09-26T14:01:24.832Z</td>\n",
       "      <td>2021-09-26T14:01:24.832Z</td>\n",
       "      <td>608156dcdeb7eb746a8b7ba0</td>\n",
       "      <td>61507aff10168f3d483c51c9</td>\n",
       "      <td>Technique</td>\n",
       "      <td>pas de frein arriere</td>\n",
       "      <td>21</td>\n",
       "      <td>['pas', 'de', 'frein', 'arriere']</td>\n",
       "    </tr>\n",
       "    <tr>\n",
       "      <th>2</th>\n",
       "      <td>2</td>\n",
       "      <td>31714</td>\n",
       "      <td>7ff43434-065d-4a08-83b2-9a6077c9d0a3</td>\n",
       "      <td>49934.0</td>\n",
       "      <td>Ct génial</td>\n",
       "      <td>0.0</td>\n",
       "      <td>2022-02-21T16:43:55.149001Z</td>\n",
       "      <td>2022-02-21T16:43:55.149001Z</td>\n",
       "      <td>NaN</td>\n",
       "      <td>NaN</td>\n",
       "      <td>Pas technique</td>\n",
       "      <td>ct genial</td>\n",
       "      <td>9</td>\n",
       "      <td>['ct', 'genial']</td>\n",
       "    </tr>\n",
       "    <tr>\n",
       "      <th>3</th>\n",
       "      <td>3</td>\n",
       "      <td>31956</td>\n",
       "      <td>737320b2-0e91-42fa-9f48-3e651b453e02</td>\n",
       "      <td>50342.0</td>\n",
       "      <td>Marche pas</td>\n",
       "      <td>0.0</td>\n",
       "      <td>2022-02-25T12:28:03.504405Z</td>\n",
       "      <td>2022-02-25T12:28:03.504405Z</td>\n",
       "      <td>NaN</td>\n",
       "      <td>;;;;;;;;;;;;;;;;;</td>\n",
       "      <td>NaN</td>\n",
       "      <td>marche pas</td>\n",
       "      <td>11</td>\n",
       "      <td>['marche', 'pas']</td>\n",
       "    </tr>\n",
       "    <tr>\n",
       "      <th>4</th>\n",
       "      <td>4</td>\n",
       "      <td>32873</td>\n",
       "      <td>1d83eae9-2658-4cee-9afe-6f4824d3ec47</td>\n",
       "      <td>51909.0</td>\n",
       "      <td>Vélo très bien mais « vélo rue » du Borrigo av...</td>\n",
       "      <td>3.0</td>\n",
       "      <td>2022-03-09T09:26:07.593932Z</td>\n",
       "      <td>2022-03-09T09:26:07.593932Z</td>\n",
       "      <td>NaN</td>\n",
       "      <td>NaN</td>\n",
       "      <td>Pas technique</td>\n",
       "      <td>velo tres bien mais  velo rue  du borrigo avec...</td>\n",
       "      <td>83</td>\n",
       "      <td>['velo', 'tres', 'bien', 'mais', 'velo', 'rue'...</td>\n",
       "    </tr>\n",
       "  </tbody>\n",
       "</table>\n",
       "</div>"
      ],
      "text/plain": [
       "   Unnamed: 0     ID                                  UUID  Trip ID  \\\n",
       "0           0  19469  5f090183-575f-4b68-bfd8-8ca64e271f60      NaN   \n",
       "1           1  19487  79fa4190-76bd-4b48-a6aa-c22b1f5f9355      NaN   \n",
       "2           2  31714  7ff43434-065d-4a08-83b2-9a6077c9d0a3  49934.0   \n",
       "3           3  31956  737320b2-0e91-42fa-9f48-3e651b453e02  50342.0   \n",
       "4           4  32873  1d83eae9-2658-4cee-9afe-6f4824d3ec47  51909.0   \n",
       "\n",
       "                                             Comment  Rate  \\\n",
       "0                        Sans assistance électrique    1.0   \n",
       "1                              Pas de frein arrière    3.0   \n",
       "2                                          Ct génial   0.0   \n",
       "3                                        Marche pas    0.0   \n",
       "4  Vélo très bien mais « vélo rue » du Borrigo av...   3.0   \n",
       "\n",
       "                    Created At                   Updated At  \\\n",
       "0     2021-09-26T11:30:17.535Z     2021-09-26T11:30:17.535Z   \n",
       "1     2021-09-26T14:01:24.832Z     2021-09-26T14:01:24.832Z   \n",
       "2  2022-02-21T16:43:55.149001Z  2022-02-21T16:43:55.149001Z   \n",
       "3  2022-02-25T12:28:03.504405Z  2022-02-25T12:28:03.504405Z   \n",
       "4  2022-03-09T09:26:07.593932Z  2022-03-09T09:26:07.593932Z   \n",
       "\n",
       "                User Old ID               Trip Old ID         Classe  \\\n",
       "0  60d193e09485da0e5c6c5c51  6150591710168f3d48342d26      Technique   \n",
       "1  608156dcdeb7eb746a8b7ba0  61507aff10168f3d483c51c9      Technique   \n",
       "2                       NaN                       NaN  Pas technique   \n",
       "3                       NaN         ;;;;;;;;;;;;;;;;;            NaN   \n",
       "4                       NaN                       NaN  Pas technique   \n",
       "\n",
       "                                               Comms  Length  \\\n",
       "0                        sans assistance electrique       27   \n",
       "1                              pas de frein arriere       21   \n",
       "2                                          ct genial       9   \n",
       "3                                        marche pas       11   \n",
       "4  velo tres bien mais  velo rue  du borrigo avec...      83   \n",
       "\n",
       "                                              Tokens  \n",
       "0               ['sans', 'assistance', 'electrique']  \n",
       "1                  ['pas', 'de', 'frein', 'arriere']  \n",
       "2                                   ['ct', 'genial']  \n",
       "3                                  ['marche', 'pas']  \n",
       "4  ['velo', 'tres', 'bien', 'mais', 'velo', 'rue'...  "
      ]
     },
     "execution_count": 30,
     "metadata": {},
     "output_type": "execute_result"
    }
   ],
   "source": [
    "dfa.head()"
   ]
  },
  {
   "cell_type": "code",
   "execution_count": 12,
   "id": "71e684f9",
   "metadata": {},
   "outputs": [
    {
     "data": {
      "text/plain": [
       "(4589, 14)"
      ]
     },
     "execution_count": 12,
     "metadata": {},
     "output_type": "execute_result"
    }
   ],
   "source": [
    "dfa = pd.read_csv(\"csv_normalized_tokenized.csv\")\n",
    "dfa.shape"
   ]
  },
  {
   "cell_type": "code",
   "execution_count": 13,
   "id": "6d20c52d",
   "metadata": {
    "scrolled": true
   },
   "outputs": [
    {
     "ename": "NameError",
     "evalue": "name 'X' is not defined",
     "output_type": "error",
     "traceback": [
      "\u001b[1;31m---------------------------------------------------------------------------\u001b[0m",
      "\u001b[1;31mNameError\u001b[0m                                 Traceback (most recent call last)",
      "\u001b[1;32m~\\AppData\\Local\\Temp/ipykernel_5228/2315433990.py\u001b[0m in \u001b[0;36m<module>\u001b[1;34m\u001b[0m\n\u001b[0;32m      3\u001b[0m \u001b[0mvectorizer\u001b[0m \u001b[1;33m=\u001b[0m \u001b[0mCountVectorizer\u001b[0m\u001b[1;33m(\u001b[0m\u001b[0mmax_features\u001b[0m\u001b[1;33m=\u001b[0m\u001b[1;36m1500\u001b[0m\u001b[1;33m,\u001b[0m \u001b[0mmin_df\u001b[0m\u001b[1;33m=\u001b[0m\u001b[1;36m5\u001b[0m\u001b[1;33m,\u001b[0m \u001b[0mmax_df\u001b[0m\u001b[1;33m=\u001b[0m\u001b[1;36m0.7\u001b[0m\u001b[1;33m)\u001b[0m\u001b[1;33m\u001b[0m\u001b[1;33m\u001b[0m\u001b[0m\n\u001b[0;32m      4\u001b[0m \u001b[1;33m\u001b[0m\u001b[0m\n\u001b[1;32m----> 5\u001b[1;33m \u001b[0mX\u001b[0m \u001b[1;33m=\u001b[0m \u001b[0mvectorizer\u001b[0m\u001b[1;33m.\u001b[0m\u001b[0mfit_transform\u001b[0m\u001b[1;33m(\u001b[0m\u001b[0mX\u001b[0m\u001b[1;33m.\u001b[0m\u001b[0mravel\u001b[0m\u001b[1;33m(\u001b[0m\u001b[1;33m)\u001b[0m\u001b[1;33m)\u001b[0m\u001b[1;33m.\u001b[0m\u001b[0mtoarray\u001b[0m\u001b[1;33m(\u001b[0m\u001b[1;33m)\u001b[0m\u001b[1;33m\u001b[0m\u001b[1;33m\u001b[0m\u001b[0m\n\u001b[0m",
      "\u001b[1;31mNameError\u001b[0m: name 'X' is not defined"
     ]
    }
   ],
   "source": [
    "from sklearn.feature_extraction.text import CountVectorizer \n",
    "\n",
    "vectorizer = CountVectorizer(max_features=1500, min_df=5, max_df=0.7)\n",
    "\n",
    "X = vectorizer.fit_transform(X.ravel()).toarray()"
   ]
  },
  {
   "cell_type": "code",
   "execution_count": 14,
   "id": "b8c80f61",
   "metadata": {},
   "outputs": [
    {
     "data": {
      "text/plain": [
       "(472, 14)"
      ]
     },
     "execution_count": 14,
     "metadata": {},
     "output_type": "execute_result"
    }
   ],
   "source": [
    "from sklearn.ensemble import RandomForestClassifier\n",
    "from sklearn.feature_extraction.text import TfidfTransformer \n",
    "from sklearn.model_selection import train_test_split\n",
    "\n",
    "# Load data\n",
    "df = pd.read_csv('csv_normalized_tokenized.csv')\n",
    "\n",
    "df = df[df['Classe'].notna()]\n",
    "df.head(10)\n",
    "df.shape"
   ]
  },
  {
   "cell_type": "code",
   "execution_count": 22,
   "id": "cd4a63ac",
   "metadata": {},
   "outputs": [
    {
     "data": {
      "text/plain": [
       "RandomForestClassifier(n_estimators=25, random_state=1)"
      ]
     },
     "execution_count": 22,
     "metadata": {},
     "output_type": "execute_result"
    }
   ],
   "source": [
    "X = df['Tokens']\n",
    "y = df['Classe']\n",
    "\n",
    "vectorizer = CountVectorizer(max_features=1500)\n",
    "X = vectorizer.fit_transform(X.ravel()).toarray()\n",
    "\n",
    "#tfidfconverter = TfidfTransformer() \n",
    "#X = tfidfconverter.fit_transform(X).toarray()\n",
    "\n",
    "# Split the data into 80% train and 20% test\n",
    "X_train, X_test, y_train, y_test = train_test_split(X, y, test_size=0.2, random_state=2)\n",
    "\n",
    "# Instantiate rf\n",
    "rf = RandomForestClassifier(n_estimators=25, random_state=1)\n",
    "            \n",
    "# Fit rf to the training set    \n",
    "rf.fit(X_train, y_train)"
   ]
  },
  {
   "cell_type": "code",
   "execution_count": 23,
   "id": "3bea2c4d",
   "metadata": {},
   "outputs": [],
   "source": [
    "y_pred = rf.predict(X_test)"
   ]
  },
  {
   "cell_type": "code",
   "execution_count": 24,
   "id": "6cc8d87b",
   "metadata": {
    "scrolled": false
   },
   "outputs": [
    {
     "name": "stdout",
     "output_type": "stream",
     "text": [
      "[[0 0 0 ... 0 0 0]\n",
      " [0 0 0 ... 0 0 0]\n",
      " [0 0 0 ... 0 0 0]\n",
      " ...\n",
      " [0 0 0 ... 0 0 0]\n",
      " [0 0 0 ... 0 0 0]\n",
      " [0 0 0 ... 0 0 0]]\n",
      "['Technique' 'Pas technique' 'Pas technique' 'Technique' 'Pas technique'\n",
      " 'Technique' 'Technique' 'Pas technique' 'Pas technique' 'Technique'\n",
      " 'Technique' 'Technique' 'Technique' 'Technique' 'Technique'\n",
      " 'Pas technique' 'Pas technique' 'Technique' 'Pas technique'\n",
      " 'Pas technique' 'Pas technique' 'Pas technique' 'Pas technique'\n",
      " 'Technique' 'Technique' 'Pas technique' 'Technique' 'Technique'\n",
      " 'Pas technique' 'Pas technique' 'Pas technique' 'Pas technique'\n",
      " 'Technique' 'Pas technique' 'Pas technique' 'Pas technique'\n",
      " 'Pas technique' 'Pas technique' 'Pas technique' 'Technique' 'Technique'\n",
      " 'Pas technique' 'Pas technique' 'Pas technique' 'Pas technique'\n",
      " 'Pas technique' 'Pas technique' 'Technique' 'Technique' 'Pas technique'\n",
      " 'Pas technique' 'Pas technique' 'Pas technique' 'Technique' 'Technique'\n",
      " 'Pas technique' 'Pas technique' 'Pas technique' 'Technique'\n",
      " 'Pas technique' 'Pas technique' 'Pas technique' 'Technique'\n",
      " 'Pas technique' 'Pas technique' 'Technique' 'Pas technique'\n",
      " 'Pas technique' 'Pas technique' 'Pas technique' 'Pas technique'\n",
      " 'Pas technique' 'Pas technique' 'Technique' 'Technique' 'Pas technique'\n",
      " 'Technique' 'Pas technique' 'Pas technique' 'Technique' 'Pas technique'\n",
      " 'Pas technique' 'Pas technique' 'Pas technique' 'Pas technique'\n",
      " 'Technique' 'Pas technique' 'Pas technique' 'Technique' 'Technique'\n",
      " 'Technique' 'Pas technique' 'Pas technique' 'Pas technique'\n",
      " 'Pas technique']\n"
     ]
    }
   ],
   "source": [
    "print(X_test)\n",
    "print(y_pred)"
   ]
  },
  {
   "cell_type": "code",
   "execution_count": 25,
   "id": "2d55b32d",
   "metadata": {},
   "outputs": [
    {
     "name": "stdout",
     "output_type": "stream",
     "text": [
      "[[54  2]\n",
      " [ 8 31]]\n",
      "0.8947368421052632\n"
     ]
    }
   ],
   "source": [
    "from sklearn.metrics import classification_report, confusion_matrix, accuracy_score\n",
    "\n",
    "print(confusion_matrix(y_test, y_pred))\n",
    "print(accuracy_score(y_test, y_pred))"
   ]
  },
  {
   "cell_type": "code",
   "execution_count": 26,
   "id": "c1dd275f",
   "metadata": {},
   "outputs": [
    {
     "name": "stdout",
     "output_type": "stream",
     "text": [
      "<class 'pandas.core.series.Series'>\n"
     ]
    },
    {
     "data": {
      "text/plain": [
       "array(['Technique', 'Pas technique'], dtype=object)"
      ]
     },
     "execution_count": 26,
     "metadata": {},
     "output_type": "execute_result"
    }
   ],
   "source": [
    "print(type(y_test))\n",
    "y_test.unique()"
   ]
  },
  {
   "cell_type": "code",
   "execution_count": 27,
   "id": "32b99cf2",
   "metadata": {},
   "outputs": [],
   "source": [
    "classifiers = [RandomForestClassifier(n_estimators=25, random_state=1)]\n"
   ]
  },
  {
   "cell_type": "code",
   "execution_count": 29,
   "id": "732dd54e",
   "metadata": {},
   "outputs": [
    {
     "data": {
      "text/plain": [
       "array(['Technique', 'Pas technique', 'Pas technique', 'Pas technique',\n",
       "       'Pas technique'], dtype=object)"
      ]
     },
     "execution_count": 29,
     "metadata": {},
     "output_type": "execute_result"
    }
   ],
   "source": [
    "v = [\"le velo a un probleme de batterie\",\"super trajet\", \"la course est chere\", \"la batterie marche bien\", \"bonjour\"]\n",
    "\n",
    "v = vectorizer.transform(v).toarray()\n",
    "rf.predict(v)"
   ]
  },
  {
   "cell_type": "code",
   "execution_count": null,
   "id": "745798bd",
   "metadata": {},
   "outputs": [],
   "source": []
  },
  {
   "cell_type": "code",
   "execution_count": null,
   "id": "5f83cb3c",
   "metadata": {},
   "outputs": [],
   "source": []
  },
  {
   "cell_type": "code",
   "execution_count": null,
   "id": "c10cba11",
   "metadata": {},
   "outputs": [],
   "source": []
  }
 ],
 "metadata": {
  "kernelspec": {
   "display_name": "Python 3 (ipykernel)",
   "language": "python",
   "name": "python3"
  },
  "language_info": {
   "codemirror_mode": {
    "name": "ipython",
    "version": 3
   },
   "file_extension": ".py",
   "mimetype": "text/x-python",
   "name": "python",
   "nbconvert_exporter": "python",
   "pygments_lexer": "ipython3",
   "version": "3.9.7"
  }
 },
 "nbformat": 4,
 "nbformat_minor": 5
}
