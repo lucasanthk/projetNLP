{
 "cells": [
  {
   "cell_type": "code",
   "execution_count": 10,
   "id": "f2a45846",
   "metadata": {},
   "outputs": [],
   "source": [
    "import matplotlib.pyplot as plt"
   ]
  },
  {
   "cell_type": "code",
   "execution_count": 3,
   "id": "ee7d6815",
   "metadata": {},
   "outputs": [],
   "source": [
    "df = pd.read_csv('csv_normalized_tokenized-Copy1.csv')"
   ]
  },
  {
   "cell_type": "code",
   "execution_count": 4,
   "id": "983ab4d9",
   "metadata": {},
   "outputs": [
    {
     "name": "stderr",
     "output_type": "stream",
     "text": [
      "C:\\Users\\lucas\\AppData\\Local\\Temp/ipykernel_6004/4032695868.py:17: FutureWarning: The error_bad_lines argument has been deprecated and will be removed in a future version.\n",
      "\n",
      "\n",
      "  self.train_set, self.test_set = self.load_data()\n"
     ]
    },
    {
     "ename": "ValueError",
     "evalue": "np.nan is an invalid document, expected byte or unicode string.",
     "output_type": "error",
     "traceback": [
      "\u001b[1;31m---------------------------------------------------------------------------\u001b[0m",
      "\u001b[1;31mValueError\u001b[0m                                Traceback (most recent call last)",
      "\u001b[1;32m~\\AppData\\Local\\Temp/ipykernel_6004/4032695868.py\u001b[0m in \u001b[0;36m<module>\u001b[1;34m\u001b[0m\n\u001b[0;32m     63\u001b[0m         \u001b[0mprint\u001b[0m\u001b[1;33m(\u001b[0m\u001b[0mpredictions\u001b[0m\u001b[1;33m)\u001b[0m\u001b[1;33m\u001b[0m\u001b[1;33m\u001b[0m\u001b[0m\n\u001b[0;32m     64\u001b[0m \u001b[1;33m\u001b[0m\u001b[0m\n\u001b[1;32m---> 65\u001b[1;33m \u001b[0mmyModel\u001b[0m \u001b[1;33m=\u001b[0m \u001b[0mClassifier\u001b[0m\u001b[1;33m(\u001b[0m\u001b[1;33m)\u001b[0m\u001b[1;33m\u001b[0m\u001b[1;33m\u001b[0m\u001b[0m\n\u001b[0m\u001b[0;32m     66\u001b[0m \u001b[1;33m\u001b[0m\u001b[0m\n\u001b[0;32m     67\u001b[0m \u001b[0mtext\u001b[0m \u001b[1;33m=\u001b[0m \u001b[1;33m[\u001b[0m\u001b[1;34m'I like this I feel good about it'\u001b[0m\u001b[1;33m,\u001b[0m \u001b[1;34m'give me 5 dollars'\u001b[0m\u001b[1;33m]\u001b[0m\u001b[1;33m\u001b[0m\u001b[1;33m\u001b[0m\u001b[0m\n",
      "\u001b[1;32m~\\AppData\\Local\\Temp/ipykernel_6004/4032695868.py\u001b[0m in \u001b[0;36m__init__\u001b[1;34m(self)\u001b[0m\n\u001b[0;32m     16\u001b[0m     \u001b[1;32mdef\u001b[0m \u001b[0m__init__\u001b[0m\u001b[1;33m(\u001b[0m\u001b[0mself\u001b[0m\u001b[1;33m)\u001b[0m\u001b[1;33m:\u001b[0m\u001b[1;33m\u001b[0m\u001b[1;33m\u001b[0m\u001b[0m\n\u001b[0;32m     17\u001b[0m         \u001b[0mself\u001b[0m\u001b[1;33m.\u001b[0m\u001b[0mtrain_set\u001b[0m\u001b[1;33m,\u001b[0m \u001b[0mself\u001b[0m\u001b[1;33m.\u001b[0m\u001b[0mtest_set\u001b[0m \u001b[1;33m=\u001b[0m \u001b[0mself\u001b[0m\u001b[1;33m.\u001b[0m\u001b[0mload_data\u001b[0m\u001b[1;33m(\u001b[0m\u001b[1;33m)\u001b[0m\u001b[1;33m\u001b[0m\u001b[1;33m\u001b[0m\u001b[0m\n\u001b[1;32m---> 18\u001b[1;33m         \u001b[0mself\u001b[0m\u001b[1;33m.\u001b[0m\u001b[0mcounts\u001b[0m\u001b[1;33m,\u001b[0m \u001b[0mself\u001b[0m\u001b[1;33m.\u001b[0m\u001b[0mtest_counts\u001b[0m \u001b[1;33m=\u001b[0m \u001b[0mself\u001b[0m\u001b[1;33m.\u001b[0m\u001b[0mvectorize\u001b[0m\u001b[1;33m(\u001b[0m\u001b[1;33m)\u001b[0m\u001b[1;33m\u001b[0m\u001b[1;33m\u001b[0m\u001b[0m\n\u001b[0m\u001b[0;32m     19\u001b[0m         \u001b[0mself\u001b[0m\u001b[1;33m.\u001b[0m\u001b[0mclassifier\u001b[0m \u001b[1;33m=\u001b[0m \u001b[0mself\u001b[0m\u001b[1;33m.\u001b[0m\u001b[0mtrain_model\u001b[0m\u001b[1;33m(\u001b[0m\u001b[1;33m)\u001b[0m\u001b[1;33m\u001b[0m\u001b[1;33m\u001b[0m\u001b[0m\n\u001b[0;32m     20\u001b[0m \u001b[1;33m\u001b[0m\u001b[0m\n",
      "\u001b[1;32m~\\AppData\\Local\\Temp/ipykernel_6004/4032695868.py\u001b[0m in \u001b[0;36mvectorize\u001b[1;34m(self)\u001b[0m\n\u001b[0;32m     39\u001b[0m                                  \u001b[0mngram_range\u001b[0m \u001b[1;33m=\u001b[0m \u001b[1;33m(\u001b[0m\u001b[1;36m1\u001b[0m\u001b[1;33m,\u001b[0m\u001b[1;36m2\u001b[0m\u001b[1;33m)\u001b[0m\u001b[1;33m,\u001b[0m\u001b[1;33m\u001b[0m\u001b[1;33m\u001b[0m\u001b[0m\n\u001b[0;32m     40\u001b[0m                                  use_idf=True)\n\u001b[1;32m---> 41\u001b[1;33m         \u001b[0mcounts\u001b[0m \u001b[1;33m=\u001b[0m \u001b[0mvectorizer\u001b[0m\u001b[1;33m.\u001b[0m\u001b[0mfit_transform\u001b[0m\u001b[1;33m(\u001b[0m\u001b[0mself\u001b[0m\u001b[1;33m.\u001b[0m\u001b[0mtrain_set\u001b[0m\u001b[1;33m[\u001b[0m\u001b[0mdata\u001b[0m\u001b[1;33m]\u001b[0m\u001b[1;33m)\u001b[0m\u001b[1;33m\u001b[0m\u001b[1;33m\u001b[0m\u001b[0m\n\u001b[0m\u001b[0;32m     42\u001b[0m         \u001b[0mtest_counts\u001b[0m \u001b[1;33m=\u001b[0m \u001b[0mvectorizer\u001b[0m\u001b[1;33m.\u001b[0m\u001b[0mtransform\u001b[0m\u001b[1;33m(\u001b[0m\u001b[0mself\u001b[0m\u001b[1;33m.\u001b[0m\u001b[0mtest_set\u001b[0m\u001b[1;33m[\u001b[0m\u001b[0mdata\u001b[0m\u001b[1;33m]\u001b[0m\u001b[1;33m)\u001b[0m\u001b[1;33m\u001b[0m\u001b[1;33m\u001b[0m\u001b[0m\n\u001b[0;32m     43\u001b[0m \u001b[1;33m\u001b[0m\u001b[0m\n",
      "\u001b[1;32m~\\anaconda3\\lib\\site-packages\\sklearn\\feature_extraction\\text.py\u001b[0m in \u001b[0;36mfit_transform\u001b[1;34m(self, raw_documents, y)\u001b[0m\n\u001b[0;32m   1844\u001b[0m         \"\"\"\n\u001b[0;32m   1845\u001b[0m         \u001b[0mself\u001b[0m\u001b[1;33m.\u001b[0m\u001b[0m_check_params\u001b[0m\u001b[1;33m(\u001b[0m\u001b[1;33m)\u001b[0m\u001b[1;33m\u001b[0m\u001b[1;33m\u001b[0m\u001b[0m\n\u001b[1;32m-> 1846\u001b[1;33m         \u001b[0mX\u001b[0m \u001b[1;33m=\u001b[0m \u001b[0msuper\u001b[0m\u001b[1;33m(\u001b[0m\u001b[1;33m)\u001b[0m\u001b[1;33m.\u001b[0m\u001b[0mfit_transform\u001b[0m\u001b[1;33m(\u001b[0m\u001b[0mraw_documents\u001b[0m\u001b[1;33m)\u001b[0m\u001b[1;33m\u001b[0m\u001b[1;33m\u001b[0m\u001b[0m\n\u001b[0m\u001b[0;32m   1847\u001b[0m         \u001b[0mself\u001b[0m\u001b[1;33m.\u001b[0m\u001b[0m_tfidf\u001b[0m\u001b[1;33m.\u001b[0m\u001b[0mfit\u001b[0m\u001b[1;33m(\u001b[0m\u001b[0mX\u001b[0m\u001b[1;33m)\u001b[0m\u001b[1;33m\u001b[0m\u001b[1;33m\u001b[0m\u001b[0m\n\u001b[0;32m   1848\u001b[0m         \u001b[1;31m# X is already a transformed view of raw_documents so\u001b[0m\u001b[1;33m\u001b[0m\u001b[1;33m\u001b[0m\u001b[0m\n",
      "\u001b[1;32m~\\anaconda3\\lib\\site-packages\\sklearn\\feature_extraction\\text.py\u001b[0m in \u001b[0;36mfit_transform\u001b[1;34m(self, raw_documents, y)\u001b[0m\n\u001b[0;32m   1200\u001b[0m         \u001b[0mmax_features\u001b[0m \u001b[1;33m=\u001b[0m \u001b[0mself\u001b[0m\u001b[1;33m.\u001b[0m\u001b[0mmax_features\u001b[0m\u001b[1;33m\u001b[0m\u001b[1;33m\u001b[0m\u001b[0m\n\u001b[0;32m   1201\u001b[0m \u001b[1;33m\u001b[0m\u001b[0m\n\u001b[1;32m-> 1202\u001b[1;33m         vocabulary, X = self._count_vocab(raw_documents,\n\u001b[0m\u001b[0;32m   1203\u001b[0m                                           self.fixed_vocabulary_)\n\u001b[0;32m   1204\u001b[0m \u001b[1;33m\u001b[0m\u001b[0m\n",
      "\u001b[1;32m~\\anaconda3\\lib\\site-packages\\sklearn\\feature_extraction\\text.py\u001b[0m in \u001b[0;36m_count_vocab\u001b[1;34m(self, raw_documents, fixed_vocab)\u001b[0m\n\u001b[0;32m   1112\u001b[0m         \u001b[1;32mfor\u001b[0m \u001b[0mdoc\u001b[0m \u001b[1;32min\u001b[0m \u001b[0mraw_documents\u001b[0m\u001b[1;33m:\u001b[0m\u001b[1;33m\u001b[0m\u001b[1;33m\u001b[0m\u001b[0m\n\u001b[0;32m   1113\u001b[0m             \u001b[0mfeature_counter\u001b[0m \u001b[1;33m=\u001b[0m \u001b[1;33m{\u001b[0m\u001b[1;33m}\u001b[0m\u001b[1;33m\u001b[0m\u001b[1;33m\u001b[0m\u001b[0m\n\u001b[1;32m-> 1114\u001b[1;33m             \u001b[1;32mfor\u001b[0m \u001b[0mfeature\u001b[0m \u001b[1;32min\u001b[0m \u001b[0manalyze\u001b[0m\u001b[1;33m(\u001b[0m\u001b[0mdoc\u001b[0m\u001b[1;33m)\u001b[0m\u001b[1;33m:\u001b[0m\u001b[1;33m\u001b[0m\u001b[1;33m\u001b[0m\u001b[0m\n\u001b[0m\u001b[0;32m   1115\u001b[0m                 \u001b[1;32mtry\u001b[0m\u001b[1;33m:\u001b[0m\u001b[1;33m\u001b[0m\u001b[1;33m\u001b[0m\u001b[0m\n\u001b[0;32m   1116\u001b[0m                     \u001b[0mfeature_idx\u001b[0m \u001b[1;33m=\u001b[0m \u001b[0mvocabulary\u001b[0m\u001b[1;33m[\u001b[0m\u001b[0mfeature\u001b[0m\u001b[1;33m]\u001b[0m\u001b[1;33m\u001b[0m\u001b[1;33m\u001b[0m\u001b[0m\n",
      "\u001b[1;32m~\\anaconda3\\lib\\site-packages\\sklearn\\feature_extraction\\text.py\u001b[0m in \u001b[0;36m_analyze\u001b[1;34m(doc, analyzer, tokenizer, ngrams, preprocessor, decoder, stop_words)\u001b[0m\n\u001b[0;32m     97\u001b[0m \u001b[1;33m\u001b[0m\u001b[0m\n\u001b[0;32m     98\u001b[0m     \u001b[1;32mif\u001b[0m \u001b[0mdecoder\u001b[0m \u001b[1;32mis\u001b[0m \u001b[1;32mnot\u001b[0m \u001b[1;32mNone\u001b[0m\u001b[1;33m:\u001b[0m\u001b[1;33m\u001b[0m\u001b[1;33m\u001b[0m\u001b[0m\n\u001b[1;32m---> 99\u001b[1;33m         \u001b[0mdoc\u001b[0m \u001b[1;33m=\u001b[0m \u001b[0mdecoder\u001b[0m\u001b[1;33m(\u001b[0m\u001b[0mdoc\u001b[0m\u001b[1;33m)\u001b[0m\u001b[1;33m\u001b[0m\u001b[1;33m\u001b[0m\u001b[0m\n\u001b[0m\u001b[0;32m    100\u001b[0m     \u001b[1;32mif\u001b[0m \u001b[0manalyzer\u001b[0m \u001b[1;32mis\u001b[0m \u001b[1;32mnot\u001b[0m \u001b[1;32mNone\u001b[0m\u001b[1;33m:\u001b[0m\u001b[1;33m\u001b[0m\u001b[1;33m\u001b[0m\u001b[0m\n\u001b[0;32m    101\u001b[0m         \u001b[0mdoc\u001b[0m \u001b[1;33m=\u001b[0m \u001b[0manalyzer\u001b[0m\u001b[1;33m(\u001b[0m\u001b[0mdoc\u001b[0m\u001b[1;33m)\u001b[0m\u001b[1;33m\u001b[0m\u001b[1;33m\u001b[0m\u001b[0m\n",
      "\u001b[1;32m~\\anaconda3\\lib\\site-packages\\sklearn\\feature_extraction\\text.py\u001b[0m in \u001b[0;36mdecode\u001b[1;34m(self, doc)\u001b[0m\n\u001b[0;32m    215\u001b[0m \u001b[1;33m\u001b[0m\u001b[0m\n\u001b[0;32m    216\u001b[0m         \u001b[1;32mif\u001b[0m \u001b[0mdoc\u001b[0m \u001b[1;32mis\u001b[0m \u001b[0mnp\u001b[0m\u001b[1;33m.\u001b[0m\u001b[0mnan\u001b[0m\u001b[1;33m:\u001b[0m\u001b[1;33m\u001b[0m\u001b[1;33m\u001b[0m\u001b[0m\n\u001b[1;32m--> 217\u001b[1;33m             raise ValueError(\"np.nan is an invalid document, expected byte or \"\n\u001b[0m\u001b[0;32m    218\u001b[0m                              \"unicode string.\")\n\u001b[0;32m    219\u001b[0m \u001b[1;33m\u001b[0m\u001b[0m\n",
      "\u001b[1;31mValueError\u001b[0m: np.nan is an invalid document, expected byte or unicode string."
     ]
    }
   ],
   "source": [
    "import csv\n",
    "import pandas as pd\n",
    "import numpy as np\n",
    "from sklearn.model_selection import train_test_split\n",
    "from sklearn.feature_extraction.text import TfidfVectorizer\n",
    "from sklearn.naive_bayes import BernoulliNB\n",
    "from sklearn.metrics import classification_report\n",
    "from sklearn.metrics import accuracy_score\n",
    "\n",
    "infile = 'csv_normalized_tokenized-Copy1.csv'\n",
    "data = \"Comms\"\n",
    "labels = \"Classe\"\n",
    "\n",
    "\n",
    "class Classifier():\n",
    "    def __init__(self):\n",
    "        self.train_set, self.test_set = self.load_data()\n",
    "        self.counts, self.test_counts = self.vectorize()\n",
    "        self.classifier = self.train_model()\n",
    "\n",
    "    def load_data(self):\n",
    "\n",
    "        df = pd.read_csv(infile, header=0, error_bad_lines=False)\n",
    "        train_set, test_set = train_test_split(df, test_size=.3)\n",
    "        return train_set, test_set\n",
    "\n",
    "    def train_model(self):\n",
    "        classifier = BernoulliNB()\n",
    "        targets = self.train_set[labels]\n",
    "        classifier.fit(self.counts, targets)\n",
    "        return classifier\n",
    "\n",
    "\n",
    "    def vectorize(self):\n",
    "\n",
    "        vectorizer = TfidfVectorizer(min_df=5,\n",
    "                                 max_df = 0.8,\n",
    "                                 sublinear_tf=True,\n",
    "                                 ngram_range = (1,2),\n",
    "                                 use_idf=True)\n",
    "        counts = vectorizer.fit_transform(self.train_set[data])\n",
    "        test_counts = vectorizer.transform(self.test_set[data])\n",
    "\n",
    "        return counts, test_counts\n",
    "\n",
    "    def evaluate(self):\n",
    "        test_counts,test_set = self.test_counts, self.test_set\n",
    "        predictions = self.classifier.predict(test_counts)\n",
    "        print (classification_report(test_set[labels], predictions))\n",
    "        print (\"The accuracy score is {:.2%}\".format(accuracy_score(test_set[labels], predictions)))\n",
    "\n",
    "\n",
    "    def classify(self, input):\n",
    "        input_text = input\n",
    "\n",
    "        input_vectorizer = TfidfVectorizer(min_df=5,\n",
    "                                 max_df = 0.8,\n",
    "                                 sublinear_tf=True,\n",
    "                                 ngram_range = (1,2),\n",
    "                                 use_idf=True)\n",
    "        input_counts = input_vectorizer.transform(input_text)\n",
    "        predictions = self.classifier.predict(input_counts)\n",
    "        print(predictions)\n",
    "\n",
    "myModel = Classifier()\n",
    "\n",
    "text = ['I like this I feel good about it', 'give me 5 dollars']\n",
    "\n",
    "myModel.classify(text)\n",
    "myModel.evaluate()"
   ]
  },
  {
   "cell_type": "code",
   "execution_count": 5,
   "id": "c833638c",
   "metadata": {},
   "outputs": [],
   "source": [
    "import pandas as pd\n",
    "from sklearn.model_selection import train_test_split\n",
    "from sklearn.feature_extraction.text import CountVectorizer\n",
    "from sklearn.feature_extraction.text import TfidfTransformer\n",
    "from sklearn.svm import LinearSVC\n",
    "import pickle\n",
    "\n",
    "\n",
    "# Train the classification model\n",
    "def train_model():\n",
    "    df = pd.read_csv('csv_normalized_tokenized-Copy1.csv')\n",
    "\n",
    "    X_train, X_test, y_train, y_test = train_test_split(df['Comms'], df['Classe'], random_state=0)\n",
    "\n",
    "    count_vect = CountVectorizer()\n",
    "    X_train_counts = count_vect.fit_transform(X_train)\n",
    "    tfidf_transformer = TfidfTransformer()\n",
    "    X_train_tfidf = tfidf_transformer.fit_transform(X_train_counts)\n",
    "\n",
    "    model = LinearSVC().fit(X_train_tfidf, y_train)\n",
    "\n",
    "    # Save the vectorizer\n",
    "    vec_file = 'vectorizer.pickle'\n",
    "    pickle.dump(count_vect, open(vec_file, 'wb'))\n",
    "\n",
    "    # Save the model\n",
    "    mod_file = 'classification.model'\n",
    "    pickle.dump(model, open(mod_file, 'wb'))\n",
    "\n",
    "\n",
    "# Load the classification model from disk and use for predictions\n",
    "def classify_utterance(utt):\n",
    "    # load the vectorizer\n",
    "    loaded_vectorizer = pickle.load(open('vectorizer.pickle', 'rb'))\n",
    "\n",
    "    # load the model\n",
    "    loaded_model = pickle.load(open('classification.model', 'rb'))\n",
    "\n",
    "    # make a prediction\n",
    "    print(loaded_model.predict(loaded_vectorizer.transform([utt])))\n",
    "    "
   ]
  },
  {
   "cell_type": "code",
   "execution_count": 42,
   "id": "fb42557d",
   "metadata": {},
   "outputs": [
    {
     "data": {
      "text/plain": [
       "(4589, 14)"
      ]
     },
     "execution_count": 42,
     "metadata": {},
     "output_type": "execute_result"
    }
   ],
   "source": [
    "df.shape"
   ]
  },
  {
   "cell_type": "code",
   "execution_count": 49,
   "id": "df0c6266",
   "metadata": {},
   "outputs": [
    {
     "data": {
      "text/plain": [
       "(4829, 10)"
      ]
     },
     "execution_count": 49,
     "metadata": {},
     "output_type": "execute_result"
    }
   ],
   "source": [
    "data = pd.read_csv(\"csv_without_null_comments2.csv\")\n",
    "data.shape"
   ]
  },
  {
   "cell_type": "code",
   "execution_count": 58,
   "id": "e8f60dd8",
   "metadata": {},
   "outputs": [
    {
     "data": {
      "text/plain": [
       "(4588, 12)"
      ]
     },
     "execution_count": 58,
     "metadata": {},
     "output_type": "execute_result"
    }
   ],
   "source": [
    "data = data[data['Comment'].notna()]\n",
    "data.shape"
   ]
  },
  {
   "cell_type": "code",
   "execution_count": 51,
   "id": "3a19f370",
   "metadata": {
    "scrolled": true
   },
   "outputs": [
    {
     "data": {
      "text/html": [
       "<div>\n",
       "<style scoped>\n",
       "    .dataframe tbody tr th:only-of-type {\n",
       "        vertical-align: middle;\n",
       "    }\n",
       "\n",
       "    .dataframe tbody tr th {\n",
       "        vertical-align: top;\n",
       "    }\n",
       "\n",
       "    .dataframe thead th {\n",
       "        text-align: right;\n",
       "    }\n",
       "</style>\n",
       "<table border=\"1\" class=\"dataframe\">\n",
       "  <thead>\n",
       "    <tr style=\"text-align: right;\">\n",
       "      <th></th>\n",
       "      <th>ID</th>\n",
       "      <th>UUID</th>\n",
       "      <th>Trip ID</th>\n",
       "      <th>Comment</th>\n",
       "      <th>Rate</th>\n",
       "      <th>Created At</th>\n",
       "      <th>Updated At</th>\n",
       "      <th>User Old ID</th>\n",
       "      <th>Trip Old ID</th>\n",
       "      <th>Classe</th>\n",
       "    </tr>\n",
       "  </thead>\n",
       "  <tbody>\n",
       "    <tr>\n",
       "      <th>0</th>\n",
       "      <td>19469</td>\n",
       "      <td>5f090183-575f-4b68-bfd8-8ca64e271f60</td>\n",
       "      <td>NaN</td>\n",
       "      <td>Sans assistance électrique</td>\n",
       "      <td>1.0</td>\n",
       "      <td>2021-09-26T11:30:17.535Z</td>\n",
       "      <td>2021-09-26T11:30:17.535Z</td>\n",
       "      <td>60d193e09485da0e5c6c5c51</td>\n",
       "      <td>6150591710168f3d48342d26</td>\n",
       "      <td>Technique</td>\n",
       "    </tr>\n",
       "    <tr>\n",
       "      <th>1</th>\n",
       "      <td>19487</td>\n",
       "      <td>79fa4190-76bd-4b48-a6aa-c22b1f5f9355</td>\n",
       "      <td>NaN</td>\n",
       "      <td>Pas de frein arrière</td>\n",
       "      <td>3.0</td>\n",
       "      <td>2021-09-26T14:01:24.832Z</td>\n",
       "      <td>2021-09-26T14:01:24.832Z</td>\n",
       "      <td>608156dcdeb7eb746a8b7ba0</td>\n",
       "      <td>61507aff10168f3d483c51c9</td>\n",
       "      <td>Technique</td>\n",
       "    </tr>\n",
       "    <tr>\n",
       "      <th>2</th>\n",
       "      <td>31714</td>\n",
       "      <td>7ff43434-065d-4a08-83b2-9a6077c9d0a3</td>\n",
       "      <td>49934.0</td>\n",
       "      <td>Ct génial</td>\n",
       "      <td>0.0</td>\n",
       "      <td>2022-02-21T16:43:55.149001Z</td>\n",
       "      <td>2022-02-21T16:43:55.149001Z</td>\n",
       "      <td>NaN</td>\n",
       "      <td>NaN</td>\n",
       "      <td>Pas technique</td>\n",
       "    </tr>\n",
       "    <tr>\n",
       "      <th>3</th>\n",
       "      <td>31956</td>\n",
       "      <td>737320b2-0e91-42fa-9f48-3e651b453e02</td>\n",
       "      <td>50342.0</td>\n",
       "      <td>Marche pas</td>\n",
       "      <td>0.0</td>\n",
       "      <td>2022-02-25T12:28:03.504405Z</td>\n",
       "      <td>2022-02-25T12:28:03.504405Z</td>\n",
       "      <td>NaN</td>\n",
       "      <td>;;;;;;;;;;;;;;;;;</td>\n",
       "      <td>NaN</td>\n",
       "    </tr>\n",
       "    <tr>\n",
       "      <th>4</th>\n",
       "      <td>32873</td>\n",
       "      <td>1d83eae9-2658-4cee-9afe-6f4824d3ec47</td>\n",
       "      <td>51909.0</td>\n",
       "      <td>Vélo très bien mais « vélo rue » du Borrigo av...</td>\n",
       "      <td>3.0</td>\n",
       "      <td>2022-03-09T09:26:07.593932Z</td>\n",
       "      <td>2022-03-09T09:26:07.593932Z</td>\n",
       "      <td>NaN</td>\n",
       "      <td>NaN</td>\n",
       "      <td>Pas technique</td>\n",
       "    </tr>\n",
       "  </tbody>\n",
       "</table>\n",
       "</div>"
      ],
      "text/plain": [
       "      ID                                  UUID  Trip ID  \\\n",
       "0  19469  5f090183-575f-4b68-bfd8-8ca64e271f60      NaN   \n",
       "1  19487  79fa4190-76bd-4b48-a6aa-c22b1f5f9355      NaN   \n",
       "2  31714  7ff43434-065d-4a08-83b2-9a6077c9d0a3  49934.0   \n",
       "3  31956  737320b2-0e91-42fa-9f48-3e651b453e02  50342.0   \n",
       "4  32873  1d83eae9-2658-4cee-9afe-6f4824d3ec47  51909.0   \n",
       "\n",
       "                                             Comment  Rate  \\\n",
       "0                        Sans assistance électrique    1.0   \n",
       "1                              Pas de frein arrière    3.0   \n",
       "2                                          Ct génial   0.0   \n",
       "3                                        Marche pas    0.0   \n",
       "4  Vélo très bien mais « vélo rue » du Borrigo av...   3.0   \n",
       "\n",
       "                    Created At                   Updated At  \\\n",
       "0     2021-09-26T11:30:17.535Z     2021-09-26T11:30:17.535Z   \n",
       "1     2021-09-26T14:01:24.832Z     2021-09-26T14:01:24.832Z   \n",
       "2  2022-02-21T16:43:55.149001Z  2022-02-21T16:43:55.149001Z   \n",
       "3  2022-02-25T12:28:03.504405Z  2022-02-25T12:28:03.504405Z   \n",
       "4  2022-03-09T09:26:07.593932Z  2022-03-09T09:26:07.593932Z   \n",
       "\n",
       "                User Old ID               Trip Old ID         Classe  \n",
       "0  60d193e09485da0e5c6c5c51  6150591710168f3d48342d26      Technique  \n",
       "1  608156dcdeb7eb746a8b7ba0  61507aff10168f3d483c51c9      Technique  \n",
       "2                       NaN                       NaN  Pas technique  \n",
       "3                       NaN         ;;;;;;;;;;;;;;;;;            NaN  \n",
       "4                       NaN                       NaN  Pas technique  "
      ]
     },
     "execution_count": 51,
     "metadata": {},
     "output_type": "execute_result"
    }
   ],
   "source": [
    "data.rename(columns={'Classe;;;;;;;;;;;;;;;;;':'Classe'}, inplace=True)\n",
    "data['Classe'] = data[\"Classe\"].str.replace(\";\",\"\")\n",
    "data.head()"
   ]
  },
  {
   "cell_type": "code",
   "execution_count": 57,
   "id": "32fb167c",
   "metadata": {},
   "outputs": [
    {
     "name": "stdout",
     "output_type": "stream",
     "text": [
      "Le nombre de commentaires est : 4588\n"
     ]
    }
   ],
   "source": [
    "Com2 = data[\"Comment\"].tolist()\n",
    "print('Le nombre de commentaires est :',len(Com2))"
   ]
  },
  {
   "cell_type": "code",
   "execution_count": 53,
   "id": "86392c68",
   "metadata": {},
   "outputs": [
    {
     "name": "stdout",
     "output_type": "stream",
     "text": [
      "Le nombre de commentaires est : 4828\n"
     ]
    }
   ],
   "source": [
    "Com2 = data[\"Comment\"].tolist()\n",
    "print('Le nombre de commentaires est :',len(Com2))"
   ]
  },
  {
   "cell_type": "code",
   "execution_count": 54,
   "id": "51b6576f",
   "metadata": {},
   "outputs": [
    {
     "data": {
      "text/html": [
       "<div>\n",
       "<style scoped>\n",
       "    .dataframe tbody tr th:only-of-type {\n",
       "        vertical-align: middle;\n",
       "    }\n",
       "\n",
       "    .dataframe tbody tr th {\n",
       "        vertical-align: top;\n",
       "    }\n",
       "\n",
       "    .dataframe thead th {\n",
       "        text-align: right;\n",
       "    }\n",
       "</style>\n",
       "<table border=\"1\" class=\"dataframe\">\n",
       "  <thead>\n",
       "    <tr style=\"text-align: right;\">\n",
       "      <th></th>\n",
       "      <th>ID</th>\n",
       "      <th>UUID</th>\n",
       "      <th>Trip ID</th>\n",
       "      <th>Comment</th>\n",
       "      <th>Rate</th>\n",
       "      <th>Created At</th>\n",
       "      <th>Updated At</th>\n",
       "      <th>User Old ID</th>\n",
       "      <th>Trip Old ID</th>\n",
       "      <th>Classe</th>\n",
       "      <th>Comms</th>\n",
       "    </tr>\n",
       "  </thead>\n",
       "  <tbody>\n",
       "    <tr>\n",
       "      <th>0</th>\n",
       "      <td>19469</td>\n",
       "      <td>5f090183-575f-4b68-bfd8-8ca64e271f60</td>\n",
       "      <td>NaN</td>\n",
       "      <td>Sans assistance électrique</td>\n",
       "      <td>1.0</td>\n",
       "      <td>2021-09-26T11:30:17.535Z</td>\n",
       "      <td>2021-09-26T11:30:17.535Z</td>\n",
       "      <td>60d193e09485da0e5c6c5c51</td>\n",
       "      <td>6150591710168f3d48342d26</td>\n",
       "      <td>Technique</td>\n",
       "      <td>Sans assistance électrique</td>\n",
       "    </tr>\n",
       "    <tr>\n",
       "      <th>1</th>\n",
       "      <td>19487</td>\n",
       "      <td>79fa4190-76bd-4b48-a6aa-c22b1f5f9355</td>\n",
       "      <td>NaN</td>\n",
       "      <td>Pas de frein arrière</td>\n",
       "      <td>3.0</td>\n",
       "      <td>2021-09-26T14:01:24.832Z</td>\n",
       "      <td>2021-09-26T14:01:24.832Z</td>\n",
       "      <td>608156dcdeb7eb746a8b7ba0</td>\n",
       "      <td>61507aff10168f3d483c51c9</td>\n",
       "      <td>Technique</td>\n",
       "      <td>Pas de frein arrière</td>\n",
       "    </tr>\n",
       "    <tr>\n",
       "      <th>2</th>\n",
       "      <td>31714</td>\n",
       "      <td>7ff43434-065d-4a08-83b2-9a6077c9d0a3</td>\n",
       "      <td>49934.0</td>\n",
       "      <td>Ct génial</td>\n",
       "      <td>0.0</td>\n",
       "      <td>2022-02-21T16:43:55.149001Z</td>\n",
       "      <td>2022-02-21T16:43:55.149001Z</td>\n",
       "      <td>NaN</td>\n",
       "      <td>NaN</td>\n",
       "      <td>Pas technique</td>\n",
       "      <td>Ct génial</td>\n",
       "    </tr>\n",
       "    <tr>\n",
       "      <th>3</th>\n",
       "      <td>31956</td>\n",
       "      <td>737320b2-0e91-42fa-9f48-3e651b453e02</td>\n",
       "      <td>50342.0</td>\n",
       "      <td>Marche pas</td>\n",
       "      <td>0.0</td>\n",
       "      <td>2022-02-25T12:28:03.504405Z</td>\n",
       "      <td>2022-02-25T12:28:03.504405Z</td>\n",
       "      <td>NaN</td>\n",
       "      <td>;;;;;;;;;;;;;;;;;</td>\n",
       "      <td>NaN</td>\n",
       "      <td>Marche pas</td>\n",
       "    </tr>\n",
       "    <tr>\n",
       "      <th>4</th>\n",
       "      <td>32873</td>\n",
       "      <td>1d83eae9-2658-4cee-9afe-6f4824d3ec47</td>\n",
       "      <td>51909.0</td>\n",
       "      <td>Vélo très bien mais « vélo rue » du Borrigo av...</td>\n",
       "      <td>3.0</td>\n",
       "      <td>2022-03-09T09:26:07.593932Z</td>\n",
       "      <td>2022-03-09T09:26:07.593932Z</td>\n",
       "      <td>NaN</td>\n",
       "      <td>NaN</td>\n",
       "      <td>Pas technique</td>\n",
       "      <td>Vélo très bien mais « vélo rue » du Borrigo av...</td>\n",
       "    </tr>\n",
       "  </tbody>\n",
       "</table>\n",
       "</div>"
      ],
      "text/plain": [
       "      ID                                  UUID  Trip ID  \\\n",
       "0  19469  5f090183-575f-4b68-bfd8-8ca64e271f60      NaN   \n",
       "1  19487  79fa4190-76bd-4b48-a6aa-c22b1f5f9355      NaN   \n",
       "2  31714  7ff43434-065d-4a08-83b2-9a6077c9d0a3  49934.0   \n",
       "3  31956  737320b2-0e91-42fa-9f48-3e651b453e02  50342.0   \n",
       "4  32873  1d83eae9-2658-4cee-9afe-6f4824d3ec47  51909.0   \n",
       "\n",
       "                                             Comment  Rate  \\\n",
       "0                        Sans assistance électrique    1.0   \n",
       "1                              Pas de frein arrière    3.0   \n",
       "2                                          Ct génial   0.0   \n",
       "3                                        Marche pas    0.0   \n",
       "4  Vélo très bien mais « vélo rue » du Borrigo av...   3.0   \n",
       "\n",
       "                    Created At                   Updated At  \\\n",
       "0     2021-09-26T11:30:17.535Z     2021-09-26T11:30:17.535Z   \n",
       "1     2021-09-26T14:01:24.832Z     2021-09-26T14:01:24.832Z   \n",
       "2  2022-02-21T16:43:55.149001Z  2022-02-21T16:43:55.149001Z   \n",
       "3  2022-02-25T12:28:03.504405Z  2022-02-25T12:28:03.504405Z   \n",
       "4  2022-03-09T09:26:07.593932Z  2022-03-09T09:26:07.593932Z   \n",
       "\n",
       "                User Old ID               Trip Old ID         Classe  \\\n",
       "0  60d193e09485da0e5c6c5c51  6150591710168f3d48342d26      Technique   \n",
       "1  608156dcdeb7eb746a8b7ba0  61507aff10168f3d483c51c9      Technique   \n",
       "2                       NaN                       NaN  Pas technique   \n",
       "3                       NaN         ;;;;;;;;;;;;;;;;;            NaN   \n",
       "4                       NaN                       NaN  Pas technique   \n",
       "\n",
       "                                               Comms  \n",
       "0                        Sans assistance électrique   \n",
       "1                              Pas de frein arrière   \n",
       "2                                          Ct génial  \n",
       "3                                        Marche pas   \n",
       "4  Vélo très bien mais « vélo rue » du Borrigo av...  "
      ]
     },
     "execution_count": 54,
     "metadata": {},
     "output_type": "execute_result"
    }
   ],
   "source": [
    "data['Comms'] = Com2\n",
    "data.head()"
   ]
  },
  {
   "cell_type": "code",
   "execution_count": 55,
   "id": "d25575dc",
   "metadata": {},
   "outputs": [
    {
     "name": "stdout",
     "output_type": "stream",
     "text": [
      "Mean rate : 3.247151439817692\n",
      "Mean comments length : 23.736743993371995\n"
     ]
    },
    {
     "data": {
      "text/html": [
       "<div>\n",
       "<style scoped>\n",
       "    .dataframe tbody tr th:only-of-type {\n",
       "        vertical-align: middle;\n",
       "    }\n",
       "\n",
       "    .dataframe tbody tr th {\n",
       "        vertical-align: top;\n",
       "    }\n",
       "\n",
       "    .dataframe thead th {\n",
       "        text-align: right;\n",
       "    }\n",
       "</style>\n",
       "<table border=\"1\" class=\"dataframe\">\n",
       "  <thead>\n",
       "    <tr style=\"text-align: right;\">\n",
       "      <th></th>\n",
       "      <th>ID</th>\n",
       "      <th>UUID</th>\n",
       "      <th>Trip ID</th>\n",
       "      <th>Comment</th>\n",
       "      <th>Rate</th>\n",
       "      <th>Created At</th>\n",
       "      <th>Updated At</th>\n",
       "      <th>User Old ID</th>\n",
       "      <th>Trip Old ID</th>\n",
       "      <th>Classe</th>\n",
       "      <th>Comms</th>\n",
       "      <th>Length</th>\n",
       "    </tr>\n",
       "  </thead>\n",
       "  <tbody>\n",
       "    <tr>\n",
       "      <th>0</th>\n",
       "      <td>19469</td>\n",
       "      <td>5f090183-575f-4b68-bfd8-8ca64e271f60</td>\n",
       "      <td>NaN</td>\n",
       "      <td>Sans assistance électrique</td>\n",
       "      <td>1.0</td>\n",
       "      <td>2021-09-26T11:30:17.535Z</td>\n",
       "      <td>2021-09-26T11:30:17.535Z</td>\n",
       "      <td>60d193e09485da0e5c6c5c51</td>\n",
       "      <td>6150591710168f3d48342d26</td>\n",
       "      <td>Technique</td>\n",
       "      <td>Sans assistance électrique</td>\n",
       "      <td>27</td>\n",
       "    </tr>\n",
       "    <tr>\n",
       "      <th>1</th>\n",
       "      <td>19487</td>\n",
       "      <td>79fa4190-76bd-4b48-a6aa-c22b1f5f9355</td>\n",
       "      <td>NaN</td>\n",
       "      <td>Pas de frein arrière</td>\n",
       "      <td>3.0</td>\n",
       "      <td>2021-09-26T14:01:24.832Z</td>\n",
       "      <td>2021-09-26T14:01:24.832Z</td>\n",
       "      <td>608156dcdeb7eb746a8b7ba0</td>\n",
       "      <td>61507aff10168f3d483c51c9</td>\n",
       "      <td>Technique</td>\n",
       "      <td>Pas de frein arrière</td>\n",
       "      <td>21</td>\n",
       "    </tr>\n",
       "    <tr>\n",
       "      <th>2</th>\n",
       "      <td>31714</td>\n",
       "      <td>7ff43434-065d-4a08-83b2-9a6077c9d0a3</td>\n",
       "      <td>49934.0</td>\n",
       "      <td>Ct génial</td>\n",
       "      <td>0.0</td>\n",
       "      <td>2022-02-21T16:43:55.149001Z</td>\n",
       "      <td>2022-02-21T16:43:55.149001Z</td>\n",
       "      <td>NaN</td>\n",
       "      <td>NaN</td>\n",
       "      <td>Pas technique</td>\n",
       "      <td>Ct génial</td>\n",
       "      <td>9</td>\n",
       "    </tr>\n",
       "    <tr>\n",
       "      <th>3</th>\n",
       "      <td>31956</td>\n",
       "      <td>737320b2-0e91-42fa-9f48-3e651b453e02</td>\n",
       "      <td>50342.0</td>\n",
       "      <td>Marche pas</td>\n",
       "      <td>0.0</td>\n",
       "      <td>2022-02-25T12:28:03.504405Z</td>\n",
       "      <td>2022-02-25T12:28:03.504405Z</td>\n",
       "      <td>NaN</td>\n",
       "      <td>;;;;;;;;;;;;;;;;;</td>\n",
       "      <td>NaN</td>\n",
       "      <td>Marche pas</td>\n",
       "      <td>11</td>\n",
       "    </tr>\n",
       "    <tr>\n",
       "      <th>4</th>\n",
       "      <td>32873</td>\n",
       "      <td>1d83eae9-2658-4cee-9afe-6f4824d3ec47</td>\n",
       "      <td>51909.0</td>\n",
       "      <td>Vélo très bien mais « vélo rue » du Borrigo av...</td>\n",
       "      <td>3.0</td>\n",
       "      <td>2022-03-09T09:26:07.593932Z</td>\n",
       "      <td>2022-03-09T09:26:07.593932Z</td>\n",
       "      <td>NaN</td>\n",
       "      <td>NaN</td>\n",
       "      <td>Pas technique</td>\n",
       "      <td>Vélo très bien mais « vélo rue » du Borrigo av...</td>\n",
       "      <td>83</td>\n",
       "    </tr>\n",
       "  </tbody>\n",
       "</table>\n",
       "</div>"
      ],
      "text/plain": [
       "      ID                                  UUID  Trip ID  \\\n",
       "0  19469  5f090183-575f-4b68-bfd8-8ca64e271f60      NaN   \n",
       "1  19487  79fa4190-76bd-4b48-a6aa-c22b1f5f9355      NaN   \n",
       "2  31714  7ff43434-065d-4a08-83b2-9a6077c9d0a3  49934.0   \n",
       "3  31956  737320b2-0e91-42fa-9f48-3e651b453e02  50342.0   \n",
       "4  32873  1d83eae9-2658-4cee-9afe-6f4824d3ec47  51909.0   \n",
       "\n",
       "                                             Comment  Rate  \\\n",
       "0                        Sans assistance électrique    1.0   \n",
       "1                              Pas de frein arrière    3.0   \n",
       "2                                          Ct génial   0.0   \n",
       "3                                        Marche pas    0.0   \n",
       "4  Vélo très bien mais « vélo rue » du Borrigo av...   3.0   \n",
       "\n",
       "                    Created At                   Updated At  \\\n",
       "0     2021-09-26T11:30:17.535Z     2021-09-26T11:30:17.535Z   \n",
       "1     2021-09-26T14:01:24.832Z     2021-09-26T14:01:24.832Z   \n",
       "2  2022-02-21T16:43:55.149001Z  2022-02-21T16:43:55.149001Z   \n",
       "3  2022-02-25T12:28:03.504405Z  2022-02-25T12:28:03.504405Z   \n",
       "4  2022-03-09T09:26:07.593932Z  2022-03-09T09:26:07.593932Z   \n",
       "\n",
       "                User Old ID               Trip Old ID         Classe  \\\n",
       "0  60d193e09485da0e5c6c5c51  6150591710168f3d48342d26      Technique   \n",
       "1  608156dcdeb7eb746a8b7ba0  61507aff10168f3d483c51c9      Technique   \n",
       "2                       NaN                       NaN  Pas technique   \n",
       "3                       NaN         ;;;;;;;;;;;;;;;;;            NaN   \n",
       "4                       NaN                       NaN  Pas technique   \n",
       "\n",
       "                                               Comms  Length  \n",
       "0                        Sans assistance électrique       27  \n",
       "1                              Pas de frein arrière       21  \n",
       "2                                          Ct génial       9  \n",
       "3                                        Marche pas       11  \n",
       "4  Vélo très bien mais « vélo rue » du Borrigo av...      83  "
      ]
     },
     "execution_count": 55,
     "metadata": {},
     "output_type": "execute_result"
    }
   ],
   "source": [
    "data['Length'] = data['Comment'].apply(lambda x: len(str(x)))\n",
    "#aaaa.drop(aaaa[aaaa['Length'] <= 2].index, inplace=True)\n",
    "print(\"Mean rate :\",data[\"Rate\"].mean())\n",
    "print(\"Mean comments length :\",data[\"Length\"].mean())\n",
    "data.head()"
   ]
  },
  {
   "cell_type": "code",
   "execution_count": 62,
   "id": "464bc2ec",
   "metadata": {},
   "outputs": [
    {
     "data": {
      "text/html": [
       "<div>\n",
       "<style scoped>\n",
       "    .dataframe tbody tr th:only-of-type {\n",
       "        vertical-align: middle;\n",
       "    }\n",
       "\n",
       "    .dataframe tbody tr th {\n",
       "        vertical-align: top;\n",
       "    }\n",
       "\n",
       "    .dataframe thead th {\n",
       "        text-align: right;\n",
       "    }\n",
       "</style>\n",
       "<table border=\"1\" class=\"dataframe\">\n",
       "  <thead>\n",
       "    <tr style=\"text-align: right;\">\n",
       "      <th></th>\n",
       "      <th>ID</th>\n",
       "      <th>UUID</th>\n",
       "      <th>Trip ID</th>\n",
       "      <th>Comment</th>\n",
       "      <th>Rate</th>\n",
       "      <th>Created At</th>\n",
       "      <th>Updated At</th>\n",
       "      <th>User Old ID</th>\n",
       "      <th>Trip Old ID</th>\n",
       "      <th>Classe</th>\n",
       "      <th>Comms</th>\n",
       "      <th>Length</th>\n",
       "      <th>Tokens</th>\n",
       "    </tr>\n",
       "  </thead>\n",
       "  <tbody>\n",
       "    <tr>\n",
       "      <th>0</th>\n",
       "      <td>19469</td>\n",
       "      <td>5f090183-575f-4b68-bfd8-8ca64e271f60</td>\n",
       "      <td>NaN</td>\n",
       "      <td>Sans assistance électrique</td>\n",
       "      <td>1.0</td>\n",
       "      <td>2021-09-26T11:30:17.535Z</td>\n",
       "      <td>2021-09-26T11:30:17.535Z</td>\n",
       "      <td>60d193e09485da0e5c6c5c51</td>\n",
       "      <td>6150591710168f3d48342d26</td>\n",
       "      <td>Technique</td>\n",
       "      <td>sans assistance electrique</td>\n",
       "      <td>27</td>\n",
       "      <td>[sans, assistance, electrique]</td>\n",
       "    </tr>\n",
       "    <tr>\n",
       "      <th>1</th>\n",
       "      <td>19487</td>\n",
       "      <td>79fa4190-76bd-4b48-a6aa-c22b1f5f9355</td>\n",
       "      <td>NaN</td>\n",
       "      <td>Pas de frein arrière</td>\n",
       "      <td>3.0</td>\n",
       "      <td>2021-09-26T14:01:24.832Z</td>\n",
       "      <td>2021-09-26T14:01:24.832Z</td>\n",
       "      <td>608156dcdeb7eb746a8b7ba0</td>\n",
       "      <td>61507aff10168f3d483c51c9</td>\n",
       "      <td>Technique</td>\n",
       "      <td>pas de frein arriere</td>\n",
       "      <td>21</td>\n",
       "      <td>[pas, de, frein, arriere]</td>\n",
       "    </tr>\n",
       "  </tbody>\n",
       "</table>\n",
       "</div>"
      ],
      "text/plain": [
       "      ID                                  UUID  Trip ID  \\\n",
       "0  19469  5f090183-575f-4b68-bfd8-8ca64e271f60      NaN   \n",
       "1  19487  79fa4190-76bd-4b48-a6aa-c22b1f5f9355      NaN   \n",
       "\n",
       "                       Comment  Rate                Created At  \\\n",
       "0  Sans assistance électrique    1.0  2021-09-26T11:30:17.535Z   \n",
       "1        Pas de frein arrière    3.0  2021-09-26T14:01:24.832Z   \n",
       "\n",
       "                 Updated At               User Old ID  \\\n",
       "0  2021-09-26T11:30:17.535Z  60d193e09485da0e5c6c5c51   \n",
       "1  2021-09-26T14:01:24.832Z  608156dcdeb7eb746a8b7ba0   \n",
       "\n",
       "                Trip Old ID     Classe                        Comms  Length  \\\n",
       "0  6150591710168f3d48342d26  Technique  sans assistance electrique       27   \n",
       "1  61507aff10168f3d483c51c9  Technique        pas de frein arriere       21   \n",
       "\n",
       "                           Tokens  \n",
       "0  [sans, assistance, electrique]  \n",
       "1       [pas, de, frein, arriere]  "
      ]
     },
     "execution_count": 62,
     "metadata": {},
     "output_type": "execute_result"
    }
   ],
   "source": [
    "data.drop(data[data.Length < 2].index, inplace=True)\n",
    "#aaaa[\"Comment\"] = aaaa['Comment'].str.normalize('NFKD').str.encode('ASCII', errors='ignore').str.decode('utf-8')\n",
    "data[\"Comms\"] = data['Comms'].str.normalize('NFKD').str.encode('ASCII', errors='ignore').str.decode('utf-8')\n",
    "data.astype(str).apply(lambda x: x.str.encode('ascii', 'ignore').str.decode('ascii'))\n",
    "\n",
    "data[\"Comms\"] = data['Comms'].str.lower()\n",
    "data.head(2)"
   ]
  },
  {
   "cell_type": "code",
   "execution_count": 61,
   "id": "bc17f490",
   "metadata": {
    "scrolled": true
   },
   "outputs": [
    {
     "name": "stdout",
     "output_type": "stream",
     "text": [
      "0                          [sans, assistance, electrique]\n",
      "1                               [pas, de, frein, arriere]\n",
      "2                                            [ct, genial]\n",
      "3                                           [marche, pas]\n",
      "4       [velo, tres, bien, mais, velo, rue, du, borrig...\n",
      "                              ...                        \n",
      "4823    [great, service, ., le, velo, tremble, et, les...\n",
      "4824                                                 [nn]\n",
      "4825             [lumiere, avant, dirigee, trop, haut, .]\n",
      "4826    [problemes, rencontres, avec, la, batterie, .,...\n",
      "4827                                [velo, pas, recharge]\n",
      "Name: Tokens, Length: 4588, dtype: object\n"
     ]
    }
   ],
   "source": [
    "data['Comms'] = data['Comms'].astype(str)\n",
    "import nltk\n",
    "data[\"Tokens\"] = data.apply(lambda row: nltk.word_tokenize(row[\"Comms\"]), axis=1)\n",
    "print(data['Tokens'])"
   ]
  },
  {
   "cell_type": "code",
   "execution_count": 64,
   "id": "e7d281ec",
   "metadata": {},
   "outputs": [],
   "source": [
    "data.to_csv('csv_all_tokenized.csv')"
   ]
  },
  {
   "cell_type": "code",
   "execution_count": 63,
   "id": "42c978e5",
   "metadata": {},
   "outputs": [
    {
     "ename": "NameError",
     "evalue": "name 'X' is not defined",
     "output_type": "error",
     "traceback": [
      "\u001b[1;31m---------------------------------------------------------------------------\u001b[0m",
      "\u001b[1;31mNameError\u001b[0m                                 Traceback (most recent call last)",
      "\u001b[1;32m~\\AppData\\Local\\Temp/ipykernel_6004/2315433990.py\u001b[0m in \u001b[0;36m<module>\u001b[1;34m\u001b[0m\n\u001b[0;32m      3\u001b[0m \u001b[0mvectorizer\u001b[0m \u001b[1;33m=\u001b[0m \u001b[0mCountVectorizer\u001b[0m\u001b[1;33m(\u001b[0m\u001b[0mmax_features\u001b[0m\u001b[1;33m=\u001b[0m\u001b[1;36m1500\u001b[0m\u001b[1;33m,\u001b[0m \u001b[0mmin_df\u001b[0m\u001b[1;33m=\u001b[0m\u001b[1;36m5\u001b[0m\u001b[1;33m,\u001b[0m \u001b[0mmax_df\u001b[0m\u001b[1;33m=\u001b[0m\u001b[1;36m0.7\u001b[0m\u001b[1;33m)\u001b[0m\u001b[1;33m\u001b[0m\u001b[1;33m\u001b[0m\u001b[0m\n\u001b[0;32m      4\u001b[0m \u001b[1;33m\u001b[0m\u001b[0m\n\u001b[1;32m----> 5\u001b[1;33m \u001b[0mX\u001b[0m \u001b[1;33m=\u001b[0m \u001b[0mvectorizer\u001b[0m\u001b[1;33m.\u001b[0m\u001b[0mfit_transform\u001b[0m\u001b[1;33m(\u001b[0m\u001b[0mX\u001b[0m\u001b[1;33m.\u001b[0m\u001b[0mravel\u001b[0m\u001b[1;33m(\u001b[0m\u001b[1;33m)\u001b[0m\u001b[1;33m)\u001b[0m\u001b[1;33m.\u001b[0m\u001b[0mtoarray\u001b[0m\u001b[1;33m(\u001b[0m\u001b[1;33m)\u001b[0m\u001b[1;33m\u001b[0m\u001b[1;33m\u001b[0m\u001b[0m\n\u001b[0m",
      "\u001b[1;31mNameError\u001b[0m: name 'X' is not defined"
     ]
    }
   ],
   "source": [
    "from sklearn.feature_extraction.text import CountVectorizer \n",
    "\n",
    "vectorizer = CountVectorizer(max_features=1500, min_df=5, max_df=0.7)\n",
    "\n",
    "X = vectorizer.fit_transform(X.ravel()).toarray()"
   ]
  },
  {
   "cell_type": "code",
   "execution_count": 68,
   "id": "9e8a21d6",
   "metadata": {},
   "outputs": [
    {
     "data": {
      "text/plain": [
       "(472, 14)"
      ]
     },
     "execution_count": 68,
     "metadata": {},
     "output_type": "execute_result"
    }
   ],
   "source": [
    "from sklearn.ensemble import RandomForestClassifier\n",
    "from sklearn.feature_extraction.text import TfidfTransformer \n",
    "from sklearn.model_selection import train_test_split\n",
    "\n",
    "# Load data\n",
    "df = pd.read_csv('csv_all_tokenized.csv')\n",
    "\n",
    "df = df[df['Classe'].notna()]\n",
    "df.head(10)\n",
    "df.shape"
   ]
  },
  {
   "cell_type": "code",
   "execution_count": 69,
   "id": "1297395b",
   "metadata": {},
   "outputs": [
    {
     "data": {
      "text/plain": [
       "RandomForestClassifier(n_estimators=25, random_state=1)"
      ]
     },
     "execution_count": 69,
     "metadata": {},
     "output_type": "execute_result"
    }
   ],
   "source": [
    "X = df['Tokens']\n",
    "y = df['Classe']\n",
    "\n",
    "vectorizer = CountVectorizer(max_features=1500)\n",
    "X = vectorizer.fit_transform(X.ravel()).toarray()\n",
    "\n",
    "#tfidfconverter = TfidfTransformer() \n",
    "#X = tfidfconverter.fit_transform(X).toarray()\n",
    "\n",
    "# Split the data into 80% train and 20% test\n",
    "X_train, X_test, y_train, y_test = train_test_split(X, y, test_size=0.2, random_state=2)\n",
    "\n",
    "# Instantiate rf\n",
    "rf = RandomForestClassifier(n_estimators=25, random_state=1)\n",
    "            \n",
    "# Fit rf to the training set    \n",
    "rf.fit(X_train, y_train)"
   ]
  },
  {
   "cell_type": "code",
   "execution_count": 70,
   "id": "4bce2339",
   "metadata": {},
   "outputs": [],
   "source": [
    "y_pred = rf.predict(X_test)"
   ]
  },
  {
   "cell_type": "code",
   "execution_count": 71,
   "id": "9ec68d64",
   "metadata": {},
   "outputs": [
    {
     "name": "stdout",
     "output_type": "stream",
     "text": [
      "[[0 0 0 ... 0 0 0]\n",
      " [0 0 0 ... 0 0 0]\n",
      " [0 0 0 ... 0 0 0]\n",
      " ...\n",
      " [0 0 0 ... 0 0 0]\n",
      " [0 0 0 ... 0 0 0]\n",
      " [0 0 0 ... 0 0 0]]\n",
      "['Technique' 'Pas technique' 'Pas technique' 'Technique' 'Pas technique'\n",
      " 'Technique' 'Technique' 'Pas technique' 'Pas technique' 'Technique'\n",
      " 'Technique' 'Technique' 'Technique' 'Technique' 'Technique'\n",
      " 'Pas technique' 'Pas technique' 'Technique' 'Pas technique'\n",
      " 'Pas technique' 'Pas technique' 'Pas technique' 'Pas technique'\n",
      " 'Technique' 'Technique' 'Pas technique' 'Technique' 'Technique'\n",
      " 'Pas technique' 'Pas technique' 'Pas technique' 'Pas technique'\n",
      " 'Technique' 'Pas technique' 'Pas technique' 'Pas technique'\n",
      " 'Pas technique' 'Pas technique' 'Pas technique' 'Technique' 'Technique'\n",
      " 'Pas technique' 'Pas technique' 'Pas technique' 'Pas technique'\n",
      " 'Pas technique' 'Pas technique' 'Technique' 'Technique' 'Pas technique'\n",
      " 'Pas technique' 'Pas technique' 'Pas technique' 'Technique' 'Technique'\n",
      " 'Pas technique' 'Pas technique' 'Pas technique' 'Technique'\n",
      " 'Pas technique' 'Pas technique' 'Pas technique' 'Technique'\n",
      " 'Pas technique' 'Pas technique' 'Technique' 'Pas technique'\n",
      " 'Pas technique' 'Pas technique' 'Pas technique' 'Pas technique'\n",
      " 'Pas technique' 'Pas technique' 'Technique' 'Technique' 'Pas technique'\n",
      " 'Technique' 'Pas technique' 'Pas technique' 'Technique' 'Pas technique'\n",
      " 'Pas technique' 'Pas technique' 'Pas technique' 'Pas technique'\n",
      " 'Technique' 'Pas technique' 'Pas technique' 'Technique' 'Technique'\n",
      " 'Technique' 'Pas technique' 'Pas technique' 'Pas technique'\n",
      " 'Pas technique']\n"
     ]
    }
   ],
   "source": [
    "print(X_test)\n",
    "print(y_pred)"
   ]
  },
  {
   "cell_type": "code",
   "execution_count": 77,
   "id": "f5753a25",
   "metadata": {
    "scrolled": true
   },
   "outputs": [
    {
     "name": "stdout",
     "output_type": "stream",
     "text": [
      "Confusion matrix is : \n",
      " [[54  2]\n",
      " [ 8 31]]\n",
      "Accuracy score is : 0.8947368421052632\n"
     ]
    }
   ],
   "source": [
    "from sklearn.metrics import classification_report, confusion_matrix, accuracy_score\n",
    "\n",
    "print(\"Confusion matrix is : \\n\", confusion_matrix(y_test, y_pred))\n",
    "print(\"Accuracy score is :\", accuracy_score(y_test, y_pred))"
   ]
  }
 ],
 "metadata": {
  "kernelspec": {
   "display_name": "Python 3 (ipykernel)",
   "language": "python",
   "name": "python3"
  },
  "language_info": {
   "codemirror_mode": {
    "name": "ipython",
    "version": 3
   },
   "file_extension": ".py",
   "mimetype": "text/x-python",
   "name": "python",
   "nbconvert_exporter": "python",
   "pygments_lexer": "ipython3",
   "version": "3.9.7"
  }
 },
 "nbformat": 4,
 "nbformat_minor": 5
}
